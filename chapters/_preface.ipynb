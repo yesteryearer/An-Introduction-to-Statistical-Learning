{
 "cells": [
  {
   "cell_type": "markdown",
   "metadata": {},
   "source": [
    "## Preface ##\n",
    "\n",
    "Statistical learning refers to a set of tools for _making sense of complex datasets_.\n",
    "\n",
    "> 'It's tough to make predictions, especially about the future.' - Yogi Berra"
   ]
  },
  {
   "cell_type": "code",
   "execution_count": 1,
   "metadata": {
    "vscode": {
     "languageId": "r"
    }
   },
   "outputs": [
    {
     "data": {
      "text/plain": [
       "               _                           \n",
       "platform       x86_64-pc-linux-gnu         \n",
       "arch           x86_64                      \n",
       "os             linux-gnu                   \n",
       "system         x86_64, linux-gnu           \n",
       "status                                     \n",
       "major          3                           \n",
       "minor          6.3                         \n",
       "year           2020                        \n",
       "month          02                          \n",
       "day            29                          \n",
       "svn rev        77875                       \n",
       "language       R                           \n",
       "version.string R version 3.6.3 (2020-02-29)\n",
       "nickname       Holding the Windsock        "
      ]
     },
     "metadata": {},
     "output_type": "display_data"
    }
   ],
   "source": [
    "# R kernel test\n",
    "\n",
    "R.version"
   ]
  }
 ],
 "metadata": {
  "kernelspec": {
   "display_name": "R",
   "language": "R",
   "name": "ir"
  },
  "language_info": {
   "codemirror_mode": "r",
   "file_extension": ".r",
   "mimetype": "text/x-r-source",
   "name": "R",
   "pygments_lexer": "r",
   "version": "3.6.3"
  }
 },
 "nbformat": 4,
 "nbformat_minor": 2
}
