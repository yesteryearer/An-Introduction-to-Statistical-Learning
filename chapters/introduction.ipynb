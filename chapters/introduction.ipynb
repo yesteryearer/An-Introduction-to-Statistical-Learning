{
 "cells": [
  {
   "cell_type": "markdown",
   "metadata": {},
   "source": [
    "## Introduction ##\n",
    "\n",
    "**Statistical learning** refers to a vast set of tools for understanding data. \n",
    "These tools can be classified as supervised or unsupervised.\n",
    "\n",
    "Broadly speaking, **supervised statistical learning** involves building a statistical model for predicting, or estimating, an output based on one or more inputs.\n",
    "\n",
    "With **unsupervised statistical learning**, there are inputs but no supervising output; nevertheless we can learn relationships and structure from such data."
   ]
  },
  {
   "cell_type": "markdown",
   "metadata": {},
   "source": [
    "Predicting a _continuous_ or _quantitative_ output value is often referred to as a **regression problem**. \n",
    "\n",
    "However, in certain cases we may instead wish to predict a _non-numerical value_—that is, a **categorical** or **qualitative output**. This is known as a **Classification problem**."
   ]
  },
  {
   "cell_type": "markdown",
   "metadata": {},
   "source": [
    "Another important class of problems involves situations in which we only observe _input variables_, with _no corresponding\n",
    "output_. We would then like to group these inputs based on certain characteristics, and often the similarities between different data point. This is known as a **Clustering problem**.\n",
    "\n",
    "When clustering a set of entries with many features, we would often want to represent the entries through a set of numbers that are lesser than the cardinality of the features, we call these numbers the **principal components**. The cardinaility of these principal components correspond to the **dimensionality** of the represenation."
   ]
  },
  {
   "cell_type": "markdown",
   "metadata": {},
   "source": [
    "### A Brief History of Statistical Learning ###\n",
    "\n",
    "At the beginning of the nineteenth century, the method of _least squares_ was developed, implementing\n",
    "the earliest form of what is now known as **linear regression**. Linear regression\n",
    "is used for predicting _quantitative values_.\n",
    "\n",
    "In order to predict qualitative values **linear discriminant analysis** was proposed in 1936. In the 1940s, various authors put\n",
    "forth an alternative approach, **logistic regression**. In the early 1970s, the term **generalized linear model** was developed to describe an entire class of statistical learning methods that include both linear and logistic regression as special cases.\n",
    "\n",
    "\n",
    "By the end of the 1970s, many more techniques that were almost exclusively linear methods were invested, because fitting non-linear relationships was computationally difficult at the time. By the 1980s, computing technology had finally improved sufficiently that non-linear methods were no longer computationally prohibitive.\n",
    "\n",
    "In the mid 1980s, **classification** and **regression trees** were developed, followed shortly by **generalized additive models**.  **Neural networks** in the 1980s, and **support vector machines** arose in the 1990s.\n",
    "\n",
    "Since that time, **statistical learning** has emerged as a new subfield in\n",
    "statistics, focused on **supervised** and **unsupervised modeling** and **prediction**.\n",
    "In recent years, progress in statistical learning has been marked by the increasing availability of powerful and relatively user-friendly software, such as the popular and freely available **R system**.\n",
    "\n",
    "> R is the programming language that will be used during these notebook workthroughs of the textbook."
   ]
  },
  {
   "cell_type": "markdown",
   "metadata": {},
   "source": [
    "### Notation ###\n",
    "\n",
    "- **n**: the number of distinct data points, or observations, in our sample.\n",
    "- **p**: the number of variables that are available for use in making predictions."
   ]
  }
 ],
 "metadata": {
  "language_info": {
   "name": "python"
  }
 },
 "nbformat": 4,
 "nbformat_minor": 2
}
